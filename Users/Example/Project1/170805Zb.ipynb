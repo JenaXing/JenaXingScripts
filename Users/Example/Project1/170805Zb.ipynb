{
 "cells": [
  {
   "cell_type": "markdown",
   "metadata": {},
   "source": [
    "### Set up"
   ]
  },
  {
   "cell_type": "code",
   "execution_count": 1,
   "metadata": {
    "collapsed": true
   },
   "outputs": [],
   "source": [
    "# Just don't change this box.\n",
    "%matplotlib inline\n",
    "from jxscripts.xrd import *"
   ]
  },
  {
   "cell_type": "markdown",
   "metadata": {},
   "source": [
    "### Load your data"
   ]
  },
  {
   "cell_type": "code",
   "execution_count": 2,
   "metadata": {
    "collapsed": true
   },
   "outputs": [],
   "source": [
    "# Specify the filename, and whether it's \"twothetaomega\" or \"omegatwotheta\"\n",
    "sample=load_xrdml(\"170805Zb-twothetaomega.xrdml\",\"twothetaomega\")"
   ]
  },
  {
   "cell_type": "markdown",
   "metadata": {},
   "source": [
    "### Fit your data"
   ]
  },
  {
   "cell_type": "code",
   "execution_count": 3,
   "metadata": {},
   "outputs": [
    {
     "data": {
      "application/vnd.jupyter.widget-view+json": {
       "model_id": "0474ca5f7b2b4850ad35350b87149c3a"
      }
     },
     "metadata": {},
     "output_type": "display_data"
    }
   ],
   "source": [
    "fitter(sample,\n",
    "       \n",
    "    # Specify the structure with pairs ['layer1name',layer1material], ['layer2name',layer2material], ... \n",
    "    struct=[['n-GaN',GaN],\n",
    "            ['p-InGaN',InGaN],\n",
    "            ['p-GaN',GaN],\n",
    "            ['Cladding1',InGaN],\n",
    "            ['QW',InGaN],\n",
    "            ['Cladding2',InGaN],\n",
    "            ['subs',GaN]],\n",
    "       \n",
    "    # Overall scale\n",
    "    scale=dict(value=6.4),\n",
    "       \n",
    "    # Layer parameters\n",
    "    **{\n",
    "    'n-GaN_t':150,                          # If you specify just a number, this will be a fixed value\n",
    "       \n",
    "    'p-InGaN_t':50,                         # eg. the thickness of \"p-InGaN\" is fixed at 50nm\n",
    "    'p-InGaN_x':.01,                        # and the molefraction of \"p-InGaN\" is 1% Indium\n",
    "       \n",
    "    'p-GaN_t':100,                        \n",
    "       \n",
    "    'Cladding1_t':{'value': 23},            # But if you specify in {}, that is fittable, value= as the guess\n",
    "    'Cladding1_x':{'value':.04,'step':.005},# You can also specify the stepsize\n",
    "       \n",
    "    'QW_t':{'value':3.5,'min':1,'max':4},   # and/or the maximum and mininum allowed\n",
    "    'QW_x':{'value':.14},\n",
    "    'QW_r':0,                               # Default is no relaxation (QW_r=0), but you can specify (0-1)\n",
    "       \n",
    "    'Cladding2_t':{'value':23},\n",
    "    'Cladding2_x':{'value':.04,'step':.005},\n",
    "});\n",
    "\n",
    "# After you settle on parameters you like, I suggest you plug them back in above and save\n",
    "# so that they'll be the starting values next time you open this file..."
   ]
  },
  {
   "cell_type": "code",
   "execution_count": null,
   "metadata": {
    "collapsed": true
   },
   "outputs": [],
   "source": []
  }
 ],
 "metadata": {
  "kernelspec": {
   "display_name": "Python 3",
   "language": "python",
   "name": "python3"
  },
  "language_info": {
   "codemirror_mode": {
    "name": "ipython",
    "version": 3
   },
   "file_extension": ".py",
   "mimetype": "text/x-python",
   "name": "python",
   "nbconvert_exporter": "python",
   "pygments_lexer": "ipython3",
   "version": "3.6.1"
  }
 },
 "nbformat": 4,
 "nbformat_minor": 2
}
