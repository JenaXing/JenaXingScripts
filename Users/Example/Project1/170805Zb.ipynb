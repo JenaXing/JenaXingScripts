{
 "cells": [
  {
   "cell_type": "markdown",
   "metadata": {},
   "source": [
    "### Set up"
   ]
  },
  {
   "cell_type": "code",
   "execution_count": 1,
   "metadata": {},
   "outputs": [],
   "source": [
    "# Just don't change this box.\n",
    "%matplotlib inline\n",
    "from jxscripts.xrd import *"
   ]
  },
  {
   "cell_type": "markdown",
   "metadata": {},
   "source": [
    "### Load your data"
   ]
  },
  {
   "cell_type": "code",
   "execution_count": 2,
   "metadata": {},
   "outputs": [],
   "source": [
    "# Specify the filename, and whether it's \"twothetaomega\" or \"omegatwotheta\"\n",
    "sample=load_xrdml(\"170805Zb-twothetaomega.xrdml\",\"twothetaomega\")"
   ]
  },
  {
   "cell_type": "markdown",
   "metadata": {},
   "source": [
    "### Fit your data"
   ]
  },
  {
   "cell_type": "code",
   "execution_count": 3,
   "metadata": {},
   "outputs": [
    {
     "data": {
      "application/vnd.jupyter.widget-view+json": {
       "model_id": "e930562641274fd799385d7cd374f0f6"
      }
     },
     "metadata": {},
     "output_type": "display_data"
    }
   ],
   "source": [
    "fitter(sample,\n",
    "       \n",
    "    # Specify the structure with pairs ['layer1name',layer1material], ['layer2name',layer2material], ... \n",
    "    struct=[['nGaN',GaN],['A',InGaN],['B',GaN],['C',InGaN],['QW',InGaN],['D',InGaN],['subs',GaN]],\n",
    "       \n",
    "    # Overall scale\n",
    "    scale=dict(value=6.4),\n",
    "       \n",
    "    # Layer parameters\n",
    "    nGaN_t=150,                       # If you specify just a number, this will be a fixed value\n",
    "    A_t=50,                           # eg. the thickness of A (A_t) is 50nm, and that won't be allowed to vary\n",
    "    A_x=.01,                          # and the molefraction of layer A (A_x) is 1% Indium\n",
    "    B_t=100,                        \n",
    "    C_t=dict(value=23),               # But if you specify a dict, that is fittable, with value= as the start\n",
    "    C_x=dict(value=.04,step=.005),    # You can also specify the stepsize\n",
    "    QW_t=dict(value=3.5,min=1,max=4), # and/or the max, min allowed\n",
    "    QW_x=dict(value=.14),\n",
    "    QW_r=0,                           # Default is no relaxation (QW_r=0), but you can specify explicitly (0-1)\n",
    "    D_t=dict(value=23),\n",
    "    D_x=dict(value=.04,step=.005),\n",
    ");\n",
    "\n",
    "# After you settle on parameters you like, I suggest you plug them back in above so that they'll\n",
    "# be the starting values next time you open this file..."
   ]
  },
  {
   "cell_type": "code",
   "execution_count": null,
   "metadata": {
    "collapsed": true
   },
   "outputs": [],
   "source": []
  }
 ],
 "metadata": {
  "kernelspec": {
   "display_name": "Python 3",
   "language": "python",
   "name": "python3"
  },
  "language_info": {
   "codemirror_mode": {
    "name": "ipython",
    "version": 3
   },
   "file_extension": ".py",
   "mimetype": "text/x-python",
   "name": "python",
   "nbconvert_exporter": "python",
   "pygments_lexer": "ipython3",
   "version": "3.6.1"
  }
 },
 "nbformat": 4,
 "nbformat_minor": 2
}
